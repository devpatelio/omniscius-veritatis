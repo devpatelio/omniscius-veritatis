{
 "cells": [
  {
   "cell_type": "code",
   "execution_count": 30,
   "metadata": {},
   "outputs": [],
   "source": [
    "import urllib\n",
    "from newspaper import Article\n",
    "url = 'https://www.theatlantic.com/ideas/archive/2022/02/canada-anti-vaccine-trucker-protests/622060/'\n",
    "\n",
    "def meta_extract(url):\n",
    "    article = Article(url)\n",
    "    article.download()\n",
    "    article.parse()\n",
    "    article.download('punkt')\n",
    "    article.nlp()\n",
    "\n",
    "    return article.authors, article.publish_date, article.top_image, article.images, article.title, article.summary"
   ]
  },
  {
   "cell_type": "code",
   "execution_count": 31,
   "metadata": {},
   "outputs": [
    {
     "name": "stdout",
     "output_type": "stream",
     "text": [
      "Recently I published a book of speculative nonfiction about the possibility of a civil war in the United States.\n",
      "For five years, I have been studying American political rage, its sources, its abyssal depths, its vertiginous fracturing power.\n",
      "Their forces are diminishing: About 1,000 people are left in the Ottawa convoy, although that number may rise over the weekend.\n",
      "Republican Senator Ted Cruz is way, way more into the trucker convoy than any Canadian Conservative is.\n",
      "For the first time, I felt political rage: a sharp rise in testosterone, blinding and stupefying and violent.\n"
     ]
    }
   ],
   "source": [
    "_, _, _, _, _, summ = meta_extract(url)\n",
    "print(summ)"
   ]
  },
  {
   "cell_type": "code",
   "execution_count": 34,
   "metadata": {},
   "outputs": [
    {
     "name": "stdout",
     "output_type": "stream",
     "text": [
      "(583, 400)\n"
     ]
    }
   ],
   "source": [
    "import keras\n",
    "from linear_politifact_basis import token_basis, convert_word_to_token\n",
    "import torch\n",
    "import nltk\n",
    "\n",
    "linear_model = torch.load('model_parameters/linear_politifact.pth')\n",
    "seq = convert_word_to_token(token_basis, str(summ))\n",
    "print(seq.shape)\n",
    "\n",
    "# output = linear_model(seq)"
   ]
  },
  {
   "cell_type": "code",
   "execution_count": null,
   "metadata": {},
   "outputs": [],
   "source": []
  }
 ],
 "metadata": {
  "interpreter": {
   "hash": "aee8b7b246df8f9039afb4144a1f6fd8d2ca17a180786b69acc140d282b71a49"
  },
  "kernelspec": {
   "display_name": "Python 3.9.0 64-bit",
   "language": "python",
   "name": "python3"
  },
  "language_info": {
   "codemirror_mode": {
    "name": "ipython",
    "version": 3
   },
   "file_extension": ".py",
   "mimetype": "text/x-python",
   "name": "python",
   "nbconvert_exporter": "python",
   "pygments_lexer": "ipython3",
   "version": "3.9.0"
  },
  "orig_nbformat": 4
 },
 "nbformat": 4,
 "nbformat_minor": 2
}
